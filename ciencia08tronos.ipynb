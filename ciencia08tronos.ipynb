{
 "cells": [
  {
   "cell_type": "code",
   "execution_count": 72,
   "metadata": {},
   "outputs": [],
   "source": [
    "import pandas as pd\n",
    "import numpy as np\n",
    "import matplotlib.pyplot as plt"
   ]
  },
  {
   "cell_type": "code",
   "execution_count": 73,
   "metadata": {},
   "outputs": [
    {
     "data": {
      "text/html": [
       "<div>\n",
       "<style scoped>\n",
       "    .dataframe tbody tr th:only-of-type {\n",
       "        vertical-align: middle;\n",
       "    }\n",
       "\n",
       "    .dataframe tbody tr th {\n",
       "        vertical-align: top;\n",
       "    }\n",
       "\n",
       "    .dataframe thead th {\n",
       "        text-align: right;\n",
       "    }\n",
       "</style>\n",
       "<table border=\"1\" class=\"dataframe\">\n",
       "  <thead>\n",
       "    <tr style=\"text-align: right;\">\n",
       "      <th></th>\n",
       "      <th>name</th>\n",
       "      <th>allegiance</th>\n",
       "      <th>season</th>\n",
       "      <th>episode</th>\n",
       "      <th>location</th>\n",
       "      <th>killer</th>\n",
       "      <th>killers_house</th>\n",
       "      <th>method</th>\n",
       "      <th>death_no</th>\n",
       "    </tr>\n",
       "  </thead>\n",
       "  <tbody>\n",
       "    <tr>\n",
       "      <th>0</th>\n",
       "      <td>Waymar Royce</td>\n",
       "      <td>Night's Watch</td>\n",
       "      <td>1</td>\n",
       "      <td>1</td>\n",
       "      <td>Beyond the Wall</td>\n",
       "      <td>White Walker</td>\n",
       "      <td>NaN</td>\n",
       "      <td>Ice sword</td>\n",
       "      <td>1</td>\n",
       "    </tr>\n",
       "    <tr>\n",
       "      <th>1</th>\n",
       "      <td>Gared</td>\n",
       "      <td>Night's Watch</td>\n",
       "      <td>1</td>\n",
       "      <td>1</td>\n",
       "      <td>Beyond the Wall</td>\n",
       "      <td>White Walker</td>\n",
       "      <td>NaN</td>\n",
       "      <td>Ice sword</td>\n",
       "      <td>2</td>\n",
       "    </tr>\n",
       "    <tr>\n",
       "      <th>2</th>\n",
       "      <td>Will</td>\n",
       "      <td>Night's Watch</td>\n",
       "      <td>1</td>\n",
       "      <td>1</td>\n",
       "      <td>Winterfell</td>\n",
       "      <td>Ned Stark</td>\n",
       "      <td>House Stark</td>\n",
       "      <td>Sword</td>\n",
       "      <td>3</td>\n",
       "    </tr>\n",
       "    <tr>\n",
       "      <th>3</th>\n",
       "      <td>Stag</td>\n",
       "      <td>NaN</td>\n",
       "      <td>1</td>\n",
       "      <td>1</td>\n",
       "      <td>Winterfell</td>\n",
       "      <td>Direwolf</td>\n",
       "      <td>NaN</td>\n",
       "      <td>Teeth</td>\n",
       "      <td>4</td>\n",
       "    </tr>\n",
       "    <tr>\n",
       "      <th>4</th>\n",
       "      <td>Direwolf</td>\n",
       "      <td>NaN</td>\n",
       "      <td>1</td>\n",
       "      <td>1</td>\n",
       "      <td>Winterfell</td>\n",
       "      <td>Stag</td>\n",
       "      <td>NaN</td>\n",
       "      <td>Antler</td>\n",
       "      <td>5</td>\n",
       "    </tr>\n",
       "    <tr>\n",
       "      <th>5</th>\n",
       "      <td>Jon Arryn</td>\n",
       "      <td>House Arryn</td>\n",
       "      <td>1</td>\n",
       "      <td>1</td>\n",
       "      <td>King's Landing</td>\n",
       "      <td>Lysa Arryn</td>\n",
       "      <td>House Arryn</td>\n",
       "      <td>Poison</td>\n",
       "      <td>6</td>\n",
       "    </tr>\n",
       "    <tr>\n",
       "      <th>6</th>\n",
       "      <td>Dothraki man</td>\n",
       "      <td>Dothraki</td>\n",
       "      <td>1</td>\n",
       "      <td>1</td>\n",
       "      <td>Pentos</td>\n",
       "      <td>Dothraki man</td>\n",
       "      <td>Dothraki</td>\n",
       "      <td>Arakh</td>\n",
       "      <td>7</td>\n",
       "    </tr>\n",
       "    <tr>\n",
       "      <th>7</th>\n",
       "      <td>Catspaw assassin</td>\n",
       "      <td>NaN</td>\n",
       "      <td>1</td>\n",
       "      <td>2</td>\n",
       "      <td>Winterfell</td>\n",
       "      <td>Summer</td>\n",
       "      <td>House Stark</td>\n",
       "      <td>Teeth</td>\n",
       "      <td>8</td>\n",
       "    </tr>\n",
       "    <tr>\n",
       "      <th>8</th>\n",
       "      <td>Mycah</td>\n",
       "      <td>Smallfolk</td>\n",
       "      <td>1</td>\n",
       "      <td>2</td>\n",
       "      <td>Kingsroad</td>\n",
       "      <td>Sandor \"the Hound\" Clegane</td>\n",
       "      <td>House Lannister</td>\n",
       "      <td>Sword</td>\n",
       "      <td>9</td>\n",
       "    </tr>\n",
       "    <tr>\n",
       "      <th>9</th>\n",
       "      <td>Lady</td>\n",
       "      <td>House Stark</td>\n",
       "      <td>1</td>\n",
       "      <td>2</td>\n",
       "      <td>Kingsroad</td>\n",
       "      <td>Ned Stark</td>\n",
       "      <td>House Stark</td>\n",
       "      <td>Knife</td>\n",
       "      <td>10</td>\n",
       "    </tr>\n",
       "  </tbody>\n",
       "</table>\n",
       "</div>"
      ],
      "text/plain": [
       "               name     allegiance  season  episode         location  \\\n",
       "0      Waymar Royce  Night's Watch       1        1  Beyond the Wall   \n",
       "1             Gared  Night's Watch       1        1  Beyond the Wall   \n",
       "2              Will  Night's Watch       1        1       Winterfell   \n",
       "3              Stag            NaN       1        1       Winterfell   \n",
       "4          Direwolf            NaN       1        1       Winterfell   \n",
       "5         Jon Arryn    House Arryn       1        1   King's Landing   \n",
       "6      Dothraki man       Dothraki       1        1           Pentos   \n",
       "7  Catspaw assassin            NaN       1        2       Winterfell   \n",
       "8             Mycah      Smallfolk       1        2        Kingsroad   \n",
       "9              Lady    House Stark       1        2        Kingsroad   \n",
       "\n",
       "                       killer    killers_house     method  death_no  \n",
       "0                White Walker              NaN  Ice sword         1  \n",
       "1                White Walker              NaN  Ice sword         2  \n",
       "2                   Ned Stark      House Stark      Sword         3  \n",
       "3                    Direwolf              NaN      Teeth         4  \n",
       "4                        Stag              NaN     Antler         5  \n",
       "5                  Lysa Arryn      House Arryn     Poison         6  \n",
       "6                Dothraki man         Dothraki      Arakh         7  \n",
       "7                      Summer      House Stark      Teeth         8  \n",
       "8  Sandor \"the Hound\" Clegane  House Lannister      Sword         9  \n",
       "9                   Ned Stark      House Stark      Knife        10  "
      ]
     },
     "execution_count": 73,
     "metadata": {},
     "output_type": "execute_result"
    }
   ],
   "source": [
    "df=pd.read_csv('data/game_of_thrones_deaths_collecti.csv')\n",
    "df.head(10)"
   ]
  },
  {
   "cell_type": "code",
   "execution_count": 74,
   "metadata": {},
   "outputs": [
    {
     "name": "stdout",
     "output_type": "stream",
     "text": [
      "<class 'pandas.core.frame.DataFrame'>\n",
      "RangeIndex: 2224 entries, 0 to 2223\n",
      "Data columns (total 9 columns):\n",
      " #   Column         Non-Null Count  Dtype \n",
      "---  ------         --------------  ----- \n",
      " 0   name           2224 non-null   object\n",
      " 1   allegiance     1792 non-null   object\n",
      " 2   season         2224 non-null   int64 \n",
      " 3   episode        2224 non-null   int64 \n",
      " 4   location       2224 non-null   object\n",
      " 5   killer         2214 non-null   object\n",
      " 6   killers_house  2194 non-null   object\n",
      " 7   method         2224 non-null   object\n",
      " 8   death_no       2224 non-null   int64 \n",
      "dtypes: int64(3), object(6)\n",
      "memory usage: 156.5+ KB\n"
     ]
    }
   ],
   "source": [
    "df.info()"
   ]
  },
  {
   "cell_type": "code",
   "execution_count": 106,
   "metadata": {},
   "outputs": [
    {
     "data": {
      "text/plain": [
       "name             2224\n",
       "allegiance       2224\n",
       "season           2224\n",
       "episode          2224\n",
       "location         2224\n",
       "killer           2224\n",
       "killers_house    2224\n",
       "method           2224\n",
       "death_no         2224\n",
       "dtype: int64"
      ]
     },
     "execution_count": 106,
     "metadata": {},
     "output_type": "execute_result"
    }
   ],
   "source": [
    "df= df.fillna({\"allegiance\": 'Desconocodo', \"killer\": 'Desconocido',\n",
    "    'killers_house': 'Desconocido' })\n",
    "df.count()"
   ]
  },
  {
   "cell_type": "code",
   "execution_count": 107,
   "metadata": {},
   "outputs": [
    {
     "data": {
      "text/html": [
       "<div>\n",
       "<style scoped>\n",
       "    .dataframe tbody tr th:only-of-type {\n",
       "        vertical-align: middle;\n",
       "    }\n",
       "\n",
       "    .dataframe tbody tr th {\n",
       "        vertical-align: top;\n",
       "    }\n",
       "\n",
       "    .dataframe thead tr th {\n",
       "        text-align: left;\n",
       "    }\n",
       "\n",
       "    .dataframe thead tr:last-of-type th {\n",
       "        text-align: right;\n",
       "    }\n",
       "</style>\n",
       "<table border=\"1\" class=\"dataframe\">\n",
       "  <thead>\n",
       "    <tr>\n",
       "      <th></th>\n",
       "      <th colspan=\"8\" halign=\"left\">episode</th>\n",
       "      <th colspan=\"8\" halign=\"left\">death_no</th>\n",
       "    </tr>\n",
       "    <tr>\n",
       "      <th></th>\n",
       "      <th>count</th>\n",
       "      <th>mean</th>\n",
       "      <th>std</th>\n",
       "      <th>min</th>\n",
       "      <th>25%</th>\n",
       "      <th>50%</th>\n",
       "      <th>75%</th>\n",
       "      <th>max</th>\n",
       "      <th>count</th>\n",
       "      <th>mean</th>\n",
       "      <th>std</th>\n",
       "      <th>min</th>\n",
       "      <th>25%</th>\n",
       "      <th>50%</th>\n",
       "      <th>75%</th>\n",
       "      <th>max</th>\n",
       "    </tr>\n",
       "    <tr>\n",
       "      <th>season</th>\n",
       "      <th></th>\n",
       "      <th></th>\n",
       "      <th></th>\n",
       "      <th></th>\n",
       "      <th></th>\n",
       "      <th></th>\n",
       "      <th></th>\n",
       "      <th></th>\n",
       "      <th></th>\n",
       "      <th></th>\n",
       "      <th></th>\n",
       "      <th></th>\n",
       "      <th></th>\n",
       "      <th></th>\n",
       "      <th></th>\n",
       "      <th></th>\n",
       "    </tr>\n",
       "  </thead>\n",
       "  <tbody>\n",
       "    <tr>\n",
       "      <th>1</th>\n",
       "      <td>58.0</td>\n",
       "      <td>5.844828</td>\n",
       "      <td>2.627798</td>\n",
       "      <td>1.0</td>\n",
       "      <td>5.0</td>\n",
       "      <td>6.0</td>\n",
       "      <td>8.0</td>\n",
       "      <td>10.0</td>\n",
       "      <td>58.0</td>\n",
       "      <td>29.5</td>\n",
       "      <td>16.886879</td>\n",
       "      <td>1.0</td>\n",
       "      <td>15.25</td>\n",
       "      <td>29.5</td>\n",
       "      <td>43.75</td>\n",
       "      <td>58.0</td>\n",
       "    </tr>\n",
       "    <tr>\n",
       "      <th>2</th>\n",
       "      <td>130.0</td>\n",
       "      <td>7.461538</td>\n",
       "      <td>2.478290</td>\n",
       "      <td>1.0</td>\n",
       "      <td>6.0</td>\n",
       "      <td>9.0</td>\n",
       "      <td>9.0</td>\n",
       "      <td>10.0</td>\n",
       "      <td>130.0</td>\n",
       "      <td>123.5</td>\n",
       "      <td>37.671829</td>\n",
       "      <td>59.0</td>\n",
       "      <td>91.25</td>\n",
       "      <td>123.5</td>\n",
       "      <td>155.75</td>\n",
       "      <td>188.0</td>\n",
       "    </tr>\n",
       "    <tr>\n",
       "      <th>3</th>\n",
       "      <td>86.0</td>\n",
       "      <td>7.488372</td>\n",
       "      <td>2.365160</td>\n",
       "      <td>1.0</td>\n",
       "      <td>6.0</td>\n",
       "      <td>9.0</td>\n",
       "      <td>9.0</td>\n",
       "      <td>10.0</td>\n",
       "      <td>86.0</td>\n",
       "      <td>231.5</td>\n",
       "      <td>24.969982</td>\n",
       "      <td>189.0</td>\n",
       "      <td>210.25</td>\n",
       "      <td>231.5</td>\n",
       "      <td>252.75</td>\n",
       "      <td>274.0</td>\n",
       "    </tr>\n",
       "    <tr>\n",
       "      <th>4</th>\n",
       "      <td>170.0</td>\n",
       "      <td>7.558824</td>\n",
       "      <td>2.504330</td>\n",
       "      <td>1.0</td>\n",
       "      <td>6.0</td>\n",
       "      <td>9.0</td>\n",
       "      <td>9.0</td>\n",
       "      <td>10.0</td>\n",
       "      <td>170.0</td>\n",
       "      <td>359.5</td>\n",
       "      <td>49.218899</td>\n",
       "      <td>275.0</td>\n",
       "      <td>317.25</td>\n",
       "      <td>359.5</td>\n",
       "      <td>401.75</td>\n",
       "      <td>444.0</td>\n",
       "    </tr>\n",
       "    <tr>\n",
       "      <th>5</th>\n",
       "      <td>158.0</td>\n",
       "      <td>6.651899</td>\n",
       "      <td>2.658785</td>\n",
       "      <td>1.0</td>\n",
       "      <td>4.0</td>\n",
       "      <td>8.0</td>\n",
       "      <td>9.0</td>\n",
       "      <td>10.0</td>\n",
       "      <td>158.0</td>\n",
       "      <td>523.5</td>\n",
       "      <td>45.754781</td>\n",
       "      <td>445.0</td>\n",
       "      <td>484.25</td>\n",
       "      <td>523.5</td>\n",
       "      <td>562.75</td>\n",
       "      <td>602.0</td>\n",
       "    </tr>\n",
       "    <tr>\n",
       "      <th>6</th>\n",
       "      <td>396.0</td>\n",
       "      <td>8.742424</td>\n",
       "      <td>2.239873</td>\n",
       "      <td>1.0</td>\n",
       "      <td>9.0</td>\n",
       "      <td>10.0</td>\n",
       "      <td>10.0</td>\n",
       "      <td>10.0</td>\n",
       "      <td>396.0</td>\n",
       "      <td>800.5</td>\n",
       "      <td>114.459600</td>\n",
       "      <td>603.0</td>\n",
       "      <td>701.75</td>\n",
       "      <td>800.5</td>\n",
       "      <td>899.25</td>\n",
       "      <td>998.0</td>\n",
       "    </tr>\n",
       "    <tr>\n",
       "      <th>7</th>\n",
       "      <td>334.0</td>\n",
       "      <td>3.428144</td>\n",
       "      <td>1.392575</td>\n",
       "      <td>1.0</td>\n",
       "      <td>3.0</td>\n",
       "      <td>4.0</td>\n",
       "      <td>4.0</td>\n",
       "      <td>7.0</td>\n",
       "      <td>334.0</td>\n",
       "      <td>1165.5</td>\n",
       "      <td>96.561725</td>\n",
       "      <td>999.0</td>\n",
       "      <td>1082.25</td>\n",
       "      <td>1165.5</td>\n",
       "      <td>1248.75</td>\n",
       "      <td>1332.0</td>\n",
       "    </tr>\n",
       "    <tr>\n",
       "      <th>8</th>\n",
       "      <td>892.0</td>\n",
       "      <td>4.886771</td>\n",
       "      <td>0.518528</td>\n",
       "      <td>1.0</td>\n",
       "      <td>5.0</td>\n",
       "      <td>5.0</td>\n",
       "      <td>5.0</td>\n",
       "      <td>6.0</td>\n",
       "      <td>892.0</td>\n",
       "      <td>1778.5</td>\n",
       "      <td>257.642517</td>\n",
       "      <td>1333.0</td>\n",
       "      <td>1555.75</td>\n",
       "      <td>1778.5</td>\n",
       "      <td>2001.25</td>\n",
       "      <td>2224.0</td>\n",
       "    </tr>\n",
       "  </tbody>\n",
       "</table>\n",
       "</div>"
      ],
      "text/plain": [
       "       episode                                                 death_no  \\\n",
       "         count      mean       std  min  25%   50%   75%   max    count   \n",
       "season                                                                    \n",
       "1         58.0  5.844828  2.627798  1.0  5.0   6.0   8.0  10.0     58.0   \n",
       "2        130.0  7.461538  2.478290  1.0  6.0   9.0   9.0  10.0    130.0   \n",
       "3         86.0  7.488372  2.365160  1.0  6.0   9.0   9.0  10.0     86.0   \n",
       "4        170.0  7.558824  2.504330  1.0  6.0   9.0   9.0  10.0    170.0   \n",
       "5        158.0  6.651899  2.658785  1.0  4.0   8.0   9.0  10.0    158.0   \n",
       "6        396.0  8.742424  2.239873  1.0  9.0  10.0  10.0  10.0    396.0   \n",
       "7        334.0  3.428144  1.392575  1.0  3.0   4.0   4.0   7.0    334.0   \n",
       "8        892.0  4.886771  0.518528  1.0  5.0   5.0   5.0   6.0    892.0   \n",
       "\n",
       "                                                                      \n",
       "          mean         std     min      25%     50%      75%     max  \n",
       "season                                                                \n",
       "1         29.5   16.886879     1.0    15.25    29.5    43.75    58.0  \n",
       "2        123.5   37.671829    59.0    91.25   123.5   155.75   188.0  \n",
       "3        231.5   24.969982   189.0   210.25   231.5   252.75   274.0  \n",
       "4        359.5   49.218899   275.0   317.25   359.5   401.75   444.0  \n",
       "5        523.5   45.754781   445.0   484.25   523.5   562.75   602.0  \n",
       "6        800.5  114.459600   603.0   701.75   800.5   899.25   998.0  \n",
       "7       1165.5   96.561725   999.0  1082.25  1165.5  1248.75  1332.0  \n",
       "8       1778.5  257.642517  1333.0  1555.75  1778.5  2001.25  2224.0  "
      ]
     },
     "execution_count": 107,
     "metadata": {},
     "output_type": "execute_result"
    }
   ],
   "source": [
    "df_muertes=df.groupby('season')\n",
    "df_muertes.describe()"
   ]
  },
  {
   "cell_type": "code",
   "execution_count": 77,
   "metadata": {},
   "outputs": [
    {
     "name": "stdout",
     "output_type": "stream",
     "text": [
      "Total de muertes: 2224\n",
      "Muertes en la temporada 1: 58\n",
      "Muertes en la temporada 2: 130\n"
     ]
    }
   ],
   "source": [
    "total_muertes=df.shape[0]\n",
    "muertes_temp1=df[df.season==1].shape[0]\n",
    "muertes_temp2=df[df.season==2].shape[0]\n",
    "print('Total de muertes:', total_muertes)\n",
    "print('Muertes en la temporada 1:', muertes_temp1)\n",
    "print('Muertes en la temporada 2:', muertes_temp2)"
   ]
  },
  {
   "cell_type": "code",
   "execution_count": 78,
   "metadata": {},
   "outputs": [
    {
     "name": "stdout",
     "output_type": "stream",
     "text": [
      "Porcentaje de muertes en la temporada 1: 2.61\n"
     ]
    }
   ],
   "source": [
    "impacto_tem1=round((muertes_temp1/total_muertes)*100,2)\n",
    "print('Porcentaje de muertes en la temporada 1:', impacto_tem1)"
   ]
  },
  {
   "cell_type": "code",
   "execution_count": 79,
   "metadata": {},
   "outputs": [],
   "source": [
    "muertes_temp3=df[df.season==3].shape[0]\n",
    "impacto_tem2=round((muertes_temp2/total_muertes)*100,2)\n",
    "impacto_tem3=round((muertes_temp3/total_muertes)*100,2)"
   ]
  },
  {
   "cell_type": "code",
   "execution_count": 80,
   "metadata": {},
   "outputs": [
    {
     "data": {
      "text/html": [
       "<div>\n",
       "<style scoped>\n",
       "    .dataframe tbody tr th:only-of-type {\n",
       "        vertical-align: middle;\n",
       "    }\n",
       "\n",
       "    .dataframe tbody tr th {\n",
       "        vertical-align: top;\n",
       "    }\n",
       "\n",
       "    .dataframe thead th {\n",
       "        text-align: right;\n",
       "    }\n",
       "</style>\n",
       "<table border=\"1\" class=\"dataframe\">\n",
       "  <thead>\n",
       "    <tr style=\"text-align: right;\">\n",
       "      <th></th>\n",
       "      <th>Temporada</th>\n",
       "      <th>Impacto</th>\n",
       "    </tr>\n",
       "  </thead>\n",
       "  <tbody>\n",
       "    <tr>\n",
       "      <th>0</th>\n",
       "      <td>Temporada 1</td>\n",
       "      <td>2.61</td>\n",
       "    </tr>\n",
       "    <tr>\n",
       "      <th>1</th>\n",
       "      <td>Temporada 2</td>\n",
       "      <td>5.85</td>\n",
       "    </tr>\n",
       "    <tr>\n",
       "      <th>2</th>\n",
       "      <td>Temporada 3</td>\n",
       "      <td>3.87</td>\n",
       "    </tr>\n",
       "  </tbody>\n",
       "</table>\n",
       "</div>"
      ],
      "text/plain": [
       "     Temporada  Impacto\n",
       "0  Temporada 1     2.61\n",
       "1  Temporada 2     5.85\n",
       "2  Temporada 3     3.87"
      ]
     },
     "execution_count": 80,
     "metadata": {},
     "output_type": "execute_result"
    }
   ],
   "source": [
    "data={'Temporada':['Temporada 1','Temporada 2'\n",
    "    ,'Temporada 3']\n",
    "    ,'Impacto':[impacto_tem1,impacto_tem2,impacto_tem3 ]}\n",
    "df_impacto=pd.DataFrame.from_dict(data)\n",
    "df_impacto\n"
   ]
  },
  {
   "cell_type": "code",
   "execution_count": 81,
   "metadata": {},
   "outputs": [
    {
     "data": {
      "image/png": "[encoded data removed]",
      "text/plain": [
       "<Figure size 640x480 with 1 Axes>"
      ]
     },
     "metadata": {},
     "output_type": "display_data"
    }
   ],
   "source": [
    "df_grafico=df_impacto.groupby('Temporada').sum()\n",
    "df_grafico.plot(kind='bar',color='red',alpha=0.75)\n",
    "plt.title('Impacto de las muertes en cada temporada')\n",
    "plt.xlabel('Temporada')\n",
    "plt.ylabel('Porcentaje de muertes')\n",
    "plt.show()"
   ]
  },
  {
   "cell_type": "code",
   "execution_count": 82,
   "metadata": {},
   "outputs": [
    {
     "data": {
      "text/plain": [
       "<pandas.core.groupby.generic.SeriesGroupBy object at 0x13784c050>"
      ]
     },
     "execution_count": 82,
     "metadata": {},
     "output_type": "execute_result"
    }
   ],
   "source": [
    "grupo_season=df.groupby('season')['name']\n",
    "grupo_season   \n"
   ]
  },
  {
   "cell_type": "code",
   "execution_count": 83,
   "metadata": {},
   "outputs": [
    {
     "data": {
      "text/plain": [
       "killer\n",
       "Accident            1\n",
       "Aemon Targaryen     1\n",
       "Alliser Thorne      3\n",
       "Amory Lorch         1\n",
       "Arthur Dayne        3\n",
       "                   ..\n",
       "Wildling giant      2\n",
       "Wun Wun             3\n",
       "Yara Greyjoy       11\n",
       "Ygritte            14\n",
       "Yoren               5\n",
       "Name: death_no, Length: 129, dtype: int64"
      ]
     },
     "execution_count": 83,
     "metadata": {},
     "output_type": "execute_result"
    }
   ],
   "source": [
    "df_killer=df.groupby('killer')['death_no'].agg('count')\n",
    "df_killer"
   ]
  },
  {
   "cell_type": "markdown",
   "metadata": {},
   "source": [
    "df_killer.head(10)"
   ]
  },
  {
   "cell_type": "code",
   "execution_count": 84,
   "metadata": {},
   "outputs": [
    {
     "data": {
      "text/plain": [
       "<Axes: ylabel='death_no'>"
      ]
     },
     "execution_count": 84,
     "metadata": {},
     "output_type": "execute_result"
    },
    {
     "data": {
      "image/png": "[encoded data removed]",
      "text/plain": [
       "<Figure size 640x480 with 1 Axes>"
      ]
     },
     "metadata": {},
     "output_type": "display_data"
    }
   ],
   "source": [
    "df_primeros=df_killer.head(10)\n",
    "df_primeros.groupby('killer').sum().plot(kind='pie',y='count')"
   ]
  },
  {
   "cell_type": "code",
   "execution_count": null,
   "metadata": {},
   "outputs": [],
   "source": []
  },
  {
   "cell_type": "code",
   "execution_count": 105,
   "metadata": {},
   "outputs": [
    {
     "data": {
      "text/plain": [
       "<pandas.core.groupby.generic.DataFrameGroupBy object at 0x136ee88a0>"
      ]
     },
     "execution_count": 105,
     "metadata": {},
     "output_type": "execute_result"
    }
   ],
   "source": [
    "#dataframe muertes daenerys Targarien\n",
    "df_daenerys=df[df.killer=='Daenerys Targaryen'].groupby('season')\n",
    "df_daenerys"
   ]
  },
  {
   "cell_type": "code",
   "execution_count": 86,
   "metadata": {},
   "outputs": [
    {
     "ename": "AttributeError",
     "evalue": "'DataFrameGroupBy' object has no attribute 'groupby'",
     "output_type": "error",
     "traceback": [
      "\u001b[31m---------------------------------------------------------------------------\u001b[39m",
      "\u001b[31mAttributeError\u001b[39m                            Traceback (most recent call last)",
      "\u001b[36mCell\u001b[39m\u001b[36m \u001b[39m\u001b[32mIn[86]\u001b[39m\u001b[32m, line 2\u001b[39m\n\u001b[32m      1\u001b[39m \u001b[38;5;66;03m#muertes de daenerys por temporada\u001b[39;00m\n\u001b[32m----> \u001b[39m\u001b[32m2\u001b[39m df_daenerys_season=\u001b[43mdf_daenerys\u001b[49m\u001b[43m.\u001b[49m\u001b[43mgroupby\u001b[49m(\u001b[33m'\u001b[39m\u001b[33mseason\u001b[39m\u001b[33m'\u001b[39m)\n\u001b[32m      3\u001b[39m df_daenerys_season.count() \n",
      "\u001b[36mFile \u001b[39m\u001b[32m/Library/Frameworks/Python.framework/Versions/3.13/lib/python3.13/site-packages/pandas/core/groupby/groupby.py:1363\u001b[39m, in \u001b[36mGroupBy.__getattr__\u001b[39m\u001b[34m(self, attr)\u001b[39m\n\u001b[32m   1360\u001b[39m \u001b[38;5;28;01mif\u001b[39;00m attr \u001b[38;5;129;01min\u001b[39;00m \u001b[38;5;28mself\u001b[39m.obj:\n\u001b[32m   1361\u001b[39m     \u001b[38;5;28;01mreturn\u001b[39;00m \u001b[38;5;28mself\u001b[39m[attr]\n\u001b[32m-> \u001b[39m\u001b[32m1363\u001b[39m \u001b[38;5;28;01mraise\u001b[39;00m \u001b[38;5;167;01mAttributeError\u001b[39;00m(\n\u001b[32m   1364\u001b[39m     \u001b[33mf\u001b[39m\u001b[33m\"\u001b[39m\u001b[33m'\u001b[39m\u001b[38;5;132;01m{\u001b[39;00m\u001b[38;5;28mtype\u001b[39m(\u001b[38;5;28mself\u001b[39m).\u001b[34m__name__\u001b[39m\u001b[38;5;132;01m}\u001b[39;00m\u001b[33m'\u001b[39m\u001b[33m object has no attribute \u001b[39m\u001b[33m'\u001b[39m\u001b[38;5;132;01m{\u001b[39;00mattr\u001b[38;5;132;01m}\u001b[39;00m\u001b[33m'\u001b[39m\u001b[33m\"\u001b[39m\n\u001b[32m   1365\u001b[39m )\n",
      "\u001b[31mAttributeError\u001b[39m: 'DataFrameGroupBy' object has no attribute 'groupby'"
     ]
    }
   ],
   "source": [
    "#muertes de daenerys por temporada\n",
    "df_daenerys_season=df_daenerys.groupby('season')\n",
    "df_daenerys_season.count() "
   ]
  }
 ],
 "metadata": {
  "kernelspec": {
   "display_name": "Python 3",
   "language": "python",
   "name": "python3"
  },
  "language_info": {
   "codemirror_mode": {
    "name": "ipython",
    "version": 3
   },
   "file_extension": ".py",
   "mimetype": "text/x-python",
   "name": "python",
   "nbconvert_exporter": "python",
   "pygments_lexer": "ipython3",
   "version": "3.13.2"
  }
 },
 "nbformat": 4,
 "nbformat_minor": 2
}
